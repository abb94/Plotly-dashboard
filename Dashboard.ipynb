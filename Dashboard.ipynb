{
 "cells": [
  {
   "cell_type": "code",
   "execution_count": 9,
   "id": "b390ffca-2369-4bbb-9802-b9e75fa0e153",
   "metadata": {
    "tags": []
   },
   "outputs": [],
   "source": [
    "#Import libraries\n",
    "import datetime\n",
    "import yfinance as yf\n",
    "import plotly.graph_objects as go\n",
    "import dash\n",
    "from dash import dash_table\n",
    "import json\n",
    "import requests\n",
    "import dash_core_components as dcc\n",
    "import dash_html_components as html\n",
    "from dash.dependencies import Input, Output, State"
   ]
  },
  {
   "cell_type": "code",
   "execution_count": 10,
   "id": "80c3297d-8b4c-41d1-a3c0-aedb83df2ed0",
   "metadata": {
    "tags": []
   },
   "outputs": [],
   "source": [
    "# List of Stock symbols from https://finance.yahoo.com/\n",
    "shares = [\"XRP-USD\",\n",
    "          \"ETH-USD\",\n",
    "          \"KNC-USD\",\n",
    "          \"ETC-USD\",\n",
    "          \"ZRX-USD\",\n",
    "          \"XLM-USD\",\n",
    "          \"SFM-USD\",\n",
    "          \"DANSKE.CO\",\n",
    "          \"AAL\",\n",
    "          \"HTZ\",\n",
    "          \"HTZWW\",\n",
    "          \"SAAB-B.ST\",\n",
    "]\n",
    "selections = ['Select all']\n",
    "for stock in shares: \n",
    "    selections.append(stock)"
   ]
  },
  {
   "cell_type": "code",
   "execution_count": 11,
   "id": "be5733ed-e1c1-4892-a9d5-9c4d810f566a",
   "metadata": {
    "tags": []
   },
   "outputs": [],
   "source": [
    "#Friendly name for shares. \n",
    "share_name = {\"Select all\" : \"Select all\",\n",
    "              \"XRP-USD\" : \"XRP\",\n",
    "              \"ETH-USD\" : \"ETH\",\n",
    "              \"KNC-USD\" : \"KNC\",\n",
    "              \"ETC-USD\" : \"ETC\",\n",
    "              \"ZRX-USD\" : \"ZRX\",\n",
    "              \"XLM-USD\" : \"SAFE\",\n",
    "              \"SFM-USD\" : \"XLM\",\n",
    "              \"DANSKE.CO\" : \"Danske Bank\",\n",
    "              \"AAL\" : \"American Airlines\",\n",
    "              \"HTZ\" : \"Hertz ZZ\",\n",
    "              \"HTZWW\" : \"Hertz WW\",\n",
    "              \"SAAB-B.ST\" : \"SAAB\",\n",
    "}\n",
    "    "
   ]
  },
  {
   "cell_type": "code",
   "execution_count": 12,
   "id": "1cd4ce1b",
   "metadata": {},
   "outputs": [],
   "source": [
    "#Mapped currency of mapped shares. \n",
    "share_currency = {\"XRP-USD\" : \"USD\",\n",
    "                  \"ETH-USD\" : \"USD\",\n",
    "                  \"KNC-USD\" : \"USD\",\n",
    "                  \"ETC-USD\" : \"USD\",\n",
    "                  \"ZRX-USD\" : \"USD\",\n",
    "                  \"XLM-USD\" : \"USD\",\n",
    "                  \"SFM-USD\" : \"USD\",\n",
    "                  \"DANSKE.CO\" : \"DKK\",\n",
    "                  \"AAL\" : \"USD\",\n",
    "                  \"HTZ\" : \"EUR\",\n",
    "                  \"HTZWW\" : \"EUR\",\n",
    "                  \"SAAB-B.ST\" : \"SEK\",\n",
    "}\n",
    "# Unique currencies\n",
    "used_currencies = set(share_currency.values())"
   ]
  },
  {
   "cell_type": "code",
   "execution_count": 13,
   "id": "d5ba8ee2-421b-474b-b993-32e6abbafca3",
   "metadata": {
    "tags": []
   },
   "outputs": [],
   "source": [
    "#API key for \n",
    "api_key = \"API_KEY_HERE\"\n",
    "base_currency = \"DKK\"\n",
    "\n",
    "currencies_text = str()\n",
    "\n",
    "#Append each unique currency to a string\n",
    "for currency in used_currencies: \n",
    "    currencies_text = currencies_text + currency + \",\"\n",
    "    \n",
    "#Pass currency string to get exchange rate to base_currency\n",
    "currency_rates = requests.get(\n",
    "            f\"https://api.currencybeacon.com/v1/latest/?base={base_currency}&symbols={currencies_text}&api_key={api_key}\")\n",
    "\n",
    "#Generate dictionary\n",
    "currency_rate_dict = dict(currency_rates.json().get('response').get('rates'))\n",
    "\n",
    "#Dict for mapping exchange rate. \n",
    "currency_multiplier = {}\n",
    "\n",
    "#Map stocks currency with current exchange rate. \n",
    "for stock in share_currency: \n",
    "    currency_multiplier.update({stock : currency_rate_dict[share_currency[stock]]})"
   ]
  },
  {
   "cell_type": "code",
   "execution_count": 14,
   "id": "b788a7bb-8689-48f5-96e9-bdc567acf0f2",
   "metadata": {
    "tags": []
   },
   "outputs": [],
   "source": [
    "#Strike price for each Stock symbol. \n",
    "price_shares =  {\"XRP-USD\" : 1.19,\n",
    "                 \"ETH-USD\" : 855.92,\n",
    "                 \"KNC-USD\" : 3.97,\n",
    "                 \"ETC-USD\" : 34.06,\n",
    "                 \"ZRX-USD\" : 2.34,\n",
    "                 \"XLM-USD\" : 0.53,\n",
    "                 \"SFM-USD\" : 0.00584,\n",
    "                 \"DANSKE.CO\" : 76.72,\n",
    "                 \"AAL\" : 86.36,\n",
    "                 \"HTZ\" : 17.65,\n",
    "                 \"HTZWW\" : 17.65,\n",
    "                 \"SAAB-B.ST\" : 259.54,\n",
    "}"
   ]
  },
  {
   "cell_type": "code",
   "execution_count": 15,
   "id": "02588ca7-d228-4c48-a621-f2677349490d",
   "metadata": {
    "tags": []
   },
   "outputs": [],
   "source": [
    "# No. of shares. \n",
    "no_shares = {\"XRP-USD\" : 1,\n",
    "             \"ETH-USD\" : 1,\n",
    "             \"KNC-USD\" : 1,\n",
    "             \"ETC-USD\" : 1,\n",
    "             \"ZRX-USD\" : 1,\n",
    "             \"XLM-USD\" : 1,\n",
    "             \"SFM-USD\" : 1,\n",
    "             \"DANSKE.CO\" : 1,\n",
    "             \"AAL\" : 2,\n",
    "             \"HTZ\" : 1,\n",
    "             \"HTZWW\" : 1,\n",
    "             \"SAAB-B.ST\" : 1,\n",
    "}"
   ]
  },
  {
   "cell_type": "code",
   "execution_count": 16,
   "id": "a99d51bf-176c-4f79-bee2-0444c9df03c2",
   "metadata": {
    "tags": []
   },
   "outputs": [],
   "source": [
    "#For each stock get 2 year data span of stock value. \n",
    "def fetch_data(): \n",
    "    end_date = datetime.date.today()\n",
    "    start_date = end_date - datetime.timedelta(days=730)\n",
    "\n",
    "    # Fetch the data for each ticker symbol\n",
    "    data = yf.download(shares, start=start_date, end=end_date, progress = False)\n",
    "    data = data[\"Close\"]\n",
    "    data = data.copy()\n",
    "    data.fillna(0,inplace = True)\n",
    "    data = (data / currency_multiplier)\n",
    "    data = data.round(2)\n",
    "    for date in data.index: \n",
    "        for k in shares:\n",
    "            if data.loc[date][k] == 0:\n",
    "                prev_date = date - datetime.timedelta(days = 1)\n",
    "                try: \n",
    "                    data.loc[date][k] = data.loc[prev_date][k]\n",
    "                except: \n",
    "                    pass\n",
    "            else: \n",
    "                pass\n",
    "\n",
    "\n",
    "    portfolio_value = (data * no_shares).sum(axis=1)\n",
    "    portfolio_value = portfolio_value.round(2)\n",
    "    for col in data: \n",
    "        data[col] = data[col].values*no_shares[col]\n",
    "    return data, portfolio_value\n"
   ]
  },
  {
   "cell_type": "code",
   "execution_count": 17,
   "id": "791b9c58-a425-4ce6-822e-5347016755f0",
   "metadata": {
    "tags": []
   },
   "outputs": [
    {
     "name": "stderr",
     "output_type": "stream",
     "text": [
      "\n",
      "1 Failed download:\n",
      "['HTZWW']: Exception(\"%ticker%: Period 'max' is invalid, must be one of ['1d', '5d']\")\n"
     ]
    },
    {
     "data": {
      "text/html": [
       "\n",
       "        <iframe\n",
       "            width=\"100%\"\n",
       "            height=\"650\"\n",
       "            src=\"http://127.0.0.1:8050/\"\n",
       "            frameborder=\"0\"\n",
       "            allowfullscreen\n",
       "            \n",
       "        ></iframe>\n",
       "        "
      ],
      "text/plain": [
       "<IPython.lib.display.IFrame at 0x2074b346950>"
      ]
     },
     "metadata": {},
     "output_type": "display_data"
    },
    {
     "name": "stderr",
     "output_type": "stream",
     "text": [
      "\n",
      "1 Failed download:\n",
      "['HTZWW']: Exception(\"%ticker%: Period 'max' is invalid, must be one of ['1d', '5d']\")\n"
     ]
    }
   ],
   "source": [
    "#Create dashboard on Stock data. \n",
    "app = dash.Dash(__name__)\n",
    "data, portfolio_value = fetch_data()\n",
    "app.layout = html.Div(\n",
    "    children=[\n",
    "        html.H1(\"Stock Value Dashboard\", style={'text-align': 'center'}),\n",
    "        html.Br(),\n",
    "        html.H3(id=\"portfolio-value\", style={'text-align' : 'left'}),\n",
    "        html.Button(\"Update\", id=\"update-dataset-button\", n_clicks=-1),\n",
    "        dcc.Graph(id=\"stock-value-graph\"),\n",
    "        dcc.Dropdown(\n",
    "            id=\"stock-dropdown\",\n",
    "            options=[{\"label\": share_name[_option], \"value\": _option} for _option in selections],\n",
    "            value=selections[0],\n",
    "        ),\n",
    "        html.H3(\"Latest price in DKK\", style={'text-align': 'left'}),\n",
    "        dash_table.DataTable(\n",
    "            id='latest-data-table',\n",
    "            columns=[{\"name\": share_name[col], \"id\": col} for col in data.columns],\n",
    "            data=data.tail(1).to_dict('records'),\n",
    "        ),\n",
    "    ]\n",
    ")\n",
    "\n",
    "\n",
    "\n",
    "@app.callback(\n",
    "    Output(\"stock-value-graph\", \"figure\"),\n",
    "    Output(\"portfolio-value\", \"children\"),\n",
    "    Output(\"latest-data-table\", \"data\"),\n",
    "    Input(\"stock-dropdown\", \"value\"),\n",
    "    Input(\"update-dataset-button\", \"n_clicks\"),\n",
    "    State(\"update-dataset-button\", \"n_clicks\"),\n",
    ")\n",
    "def update_stock_value_graph(selected_stock, n_clicks, n_clicks_state):\n",
    "    global data \n",
    "    global portfolio_value \n",
    "    ctx = dash.callback_context\n",
    "\n",
    "    if not ctx.triggered:\n",
    "        return dash.no_update\n",
    "\n",
    "    trigger_id = ctx.triggered[0][\"prop_id\"].split(\".\")[0]\n",
    "\n",
    "    if trigger_id == \"stock-dropdown\":\n",
    "        \n",
    "        updated_portfolio_value = f\"Current Portfolio Value: {round((data.tail(1) * no_shares).sum(axis=1).values[0], 2)} DKK as of {data.tail(1).index[0].strftime('%d-%m-%Y')}\"\n",
    "        \n",
    "        if selected_stock == \"Select all\":\n",
    "            fig_overtime = go.Figure(data=go.Scatter(x=data.index, y=portfolio_value))\n",
    "            fig_overtime.update_layout(\n",
    "                title=\"Portfolio value over time\",\n",
    "                xaxis_title=\"Date\",\n",
    "                yaxis_title=\"Value\",\n",
    "                yaxis_tickprefix=\"DKK \",\n",
    "                yaxis_tickformat=\".2f\",\n",
    "                yaxis_showgrid=True,\n",
    "                yaxis_gridcolor=\"lightgray\"\n",
    "        )\n",
    "        else:\n",
    "            fig_overtime = go.Figure(data=go.Scatter(x=data.index, y=data[selected_stock]))\n",
    "            fig_overtime.update_layout(\n",
    "                title=f\"Value of {share_name[selected_stock]} over time\",\n",
    "                xaxis_title=\"Date\",\n",
    "                yaxis_title=\"Value\",\n",
    "                yaxis_tickprefix=\"DKK \",\n",
    "                yaxis_tickformat=\".2f\",\n",
    "                yaxis_showgrid=True,\n",
    "                yaxis_gridcolor=\"lightgray\"\n",
    "        )\n",
    "        \n",
    "        \n",
    "        updated_data_table = data.tail(1).to_dict('records')\n",
    "        \n",
    "        return fig_overtime, updated_portfolio_value, updated_data_table\n",
    "    \n",
    "    elif trigger_id == \"update-dataset-button\":\n",
    "        data, portfolio_value = fetch_data()\n",
    "        trigger_id\n",
    "        if n_clicks != n_clicks_state:\n",
    "            data, portfolio_value = fetch_data()\n",
    "        \n",
    "        \n",
    "        updated_portfolio_value = f\"Current Portfolio Value: {round((data.tail(1) * no_shares).sum(axis=1).values[0], 2)} DKK as of {data.tail(1).index[0].strftime('%d-%m-%Y')}\"\n",
    "        \n",
    "        if selected_stock == \"Select all\":\n",
    "            fig_overtime = go.Figure(data=go.Scatter(x=data.index, y=portfolio_value))\n",
    "            fig_overtime.update_layout(\n",
    "                title=\"Portfolio value over time\",\n",
    "                xaxis_title=\"Date\",\n",
    "                yaxis_title=\"Value\",\n",
    "                yaxis_tickprefix=\"DKK \",\n",
    "                yaxis_tickformat=\".2f\",\n",
    "                yaxis_showgrid=True,\n",
    "                yaxis_gridcolor=\"lightgray\"\n",
    "        )\n",
    "        else:\n",
    "            fig_overtime = go.Figure(data=go.Scatter(x=data.index, y=data[selected_stock]))\n",
    "            fig_overtime.update_layout(\n",
    "                title=f\"Value of {share_name[selected_stock]} over time\",\n",
    "                xaxis_title=\"Date\",\n",
    "                yaxis_title=\"Value\",\n",
    "                yaxis_tickprefix=\"DKK \",\n",
    "                yaxis_tickformat=\".2f\",\n",
    "                yaxis_showgrid=True,\n",
    "                yaxis_gridcolor=\"lightgray\"\n",
    "        )\n",
    "            \n",
    "        updated_data_table = data.tail(1).to_dict('records')\n",
    "        \n",
    "        return fig_overtime, updated_portfolio_value, updated_data_table\n",
    "\n",
    "    return dash.no_update\n",
    "\n",
    "#Connect in browser at localhost - Press update button first time opening/running script. \n",
    "app.run_server()\n"
   ]
  },
  {
   "cell_type": "code",
   "execution_count": null,
   "id": "36d27eaf-db24-4fbf-8e5a-a7fc96ab210f",
   "metadata": {},
   "outputs": [],
   "source": []
  }
 ],
 "metadata": {
  "kernelspec": {
   "display_name": "Python 3 (ipykernel)",
   "language": "python",
   "name": "python3"
  },
  "language_info": {
   "codemirror_mode": {
    "name": "ipython",
    "version": 3
   },
   "file_extension": ".py",
   "mimetype": "text/x-python",
   "name": "python",
   "nbconvert_exporter": "python",
   "pygments_lexer": "ipython3",
   "version": "3.10.11"
  }
 },
 "nbformat": 4,
 "nbformat_minor": 5
}
